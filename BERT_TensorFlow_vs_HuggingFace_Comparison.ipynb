{
  "cells": [
    {
      "cell_type": "markdown",
      "metadata": {
        "id": "mvQk_5dRQRGh"
      },
      "source": [
        "# Aim:\n",
        "Explore and implement BERT models"
      ]
    },
    {
      "cell_type": "markdown",
      "metadata": {
        "id": "xfJcCNIiQd-P"
      },
      "source": [
        "Task 2: BERT implementation using TensorFlow hub\n",
        "\n",
        "1. Set up environment: Install TensorFlow hub\n",
        "\n",
        "2. Prepare data\n",
        "\n",
        "3. Pick preprocessor + encoder\n",
        "\n",
        "4. Build Keras model\n",
        "\n",
        "5. Compile, train and validate\n",
        "\n",
        "6. Evaluate & infer\n",
        "\n",
        "You may refer to the TensorFlow tutorial on BERT given in the link below: https://www.tensorflow.org/text/tutorials/classify_text_with_bert\n",
        "\n",
        "\n",
        "Task 3: BERT implementation using Hugging Face\n",
        "\n",
        "\n",
        "1. Set up environment: Install Transformers, Ensure CUDA/PyTorch installed.\n",
        "\n",
        "2. Prepare data\n",
        "\n",
        "3. Choose a checkpoint (suitable BERT model for your dataset)\n",
        "\n",
        "4. Tokenize\n",
        "\n",
        "5. Build model\n",
        "\n",
        "6. Do the Training setup\n",
        "\n",
        "7. Train & evaluate\n",
        "\n",
        "8. Evaluate & infer\n",
        "\n",
        "\n",
        "\n",
        "\n",
        "Task 4: Compare performances for your use case in task 2 and 3\n",
        "\n",
        "\n",
        "\n",
        "1. Use the same dataset, splits, and epochs for both implementations.\n",
        "\n",
        "2. Record metrics: accuracy, macro-F1, confusion matrix.\n",
        "\n",
        "3. Track efficiency: training time/epoch, GPU memory usage, max sequence length used.\n",
        "\n",
        "4. Document implementation effort: code length, ease of tokenization, logging, and model export.\n",
        "\n",
        "5. Reflect on gaps: any mismatch due to different tokenization defaults, padding/truncation, or batch sizes."
      ]
    },
    {
      "cell_type": "code",
      "execution_count": 1,
      "metadata": {
        "colab": {
          "base_uri": "https://localhost:8080/"
        },
        "id": "k0NlDW0tQN5s"
      },
      "outputs": [
        {
          "name": "stderr",
          "output_type": "stream",
          "text": [
            "2025-08-05 16:09:46.227846: E external/local_xla/xla/stream_executor/cuda/cuda_fft.cc:467] Unable to register cuFFT factory: Attempting to register factory for plugin cuFFT when one has already been registered\n",
            "WARNING: All log messages before absl::InitializeLog() is called are written to STDERR\n",
            "E0000 00:00:1754390386.396185   10251 cuda_dnn.cc:8579] Unable to register cuDNN factory: Attempting to register factory for plugin cuDNN when one has already been registered\n",
            "E0000 00:00:1754390386.442650   10251 cuda_blas.cc:1407] Unable to register cuBLAS factory: Attempting to register factory for plugin cuBLAS when one has already been registered\n",
            "W0000 00:00:1754390386.738287   10251 computation_placer.cc:177] computation placer already registered. Please check linkage and avoid linking the same target more than once.\n",
            "W0000 00:00:1754390386.738358   10251 computation_placer.cc:177] computation placer already registered. Please check linkage and avoid linking the same target more than once.\n",
            "W0000 00:00:1754390386.738361   10251 computation_placer.cc:177] computation placer already registered. Please check linkage and avoid linking the same target more than once.\n",
            "W0000 00:00:1754390386.738363   10251 computation_placer.cc:177] computation placer already registered. Please check linkage and avoid linking the same target more than once.\n",
            "2025-08-05 16:09:46.775788: I tensorflow/core/platform/cpu_feature_guard.cc:210] This TensorFlow binary is optimized to use available CPU instructions in performance-critical operations.\n",
            "To enable the following instructions: AVX2 FMA, in other operations, rebuild TensorFlow with the appropriate compiler flags.\n",
            "/home/karan/miniconda3/envs/transformers/lib/python3.10/site-packages/tqdm/auto.py:21: TqdmWarning: IProgress not found. Please update jupyter and ipywidgets. See https://ipywidgets.readthedocs.io/en/stable/user_install.html\n",
            "  from .autonotebook import tqdm as notebook_tqdm\n"
          ]
        }
      ],
      "source": [
        "import os\n",
        "os.environ[\"TF_USE_LEGACY_KERAS\"] = \"1\"   # Must set before TF import\n",
        "\n",
        "import tensorflow as tf\n",
        "import tensorflow_hub as hub\n",
        "import time\n",
        "import shutil\n",
        "import numpy as np\n",
        "import matplotlib.pyplot as plt\n",
        "import seaborn as sns\n",
        "from sklearn.metrics import f1_score, confusion_matrix\n",
        "\n",
        "import tensorflow_datasets as tfds\n",
        "import tensorflow_text as text\n",
        "from sklearn.metrics import f1_score, accuracy_score\n",
        "import torch\n",
        "from datasets import load_dataset\n",
        "from transformers import (\n",
        "    AutoTokenizer,\n",
        "    AutoModelForSequenceClassification,\n",
        "    TrainingArguments,\n",
        "    Trainer,\n",
        "    pipeline\n",
        ")"
      ]
    },
    {
      "cell_type": "code",
      "execution_count": 2,
      "metadata": {},
      "outputs": [
        {
          "name": "stdout",
          "output_type": "stream",
          "text": [
            "Set hard 4GB limit on the first GPU.\n"
          ]
        }
      ],
      "source": [
        "import tensorflow as tf\n",
        "\n",
        "gpus = tf.config.list_physical_devices('GPU')\n",
        "if gpus:\n",
        "    try:\n",
        "        tf.config.set_logical_device_configuration(\n",
        "            gpus[0],\n",
        "            [tf.config.LogicalDeviceConfiguration(memory_limit=7900)])  # 4096 MB = 4 GB\n",
        "        print(\"Set hard 4GB limit on the first GPU.\")\n",
        "    except RuntimeError as e:\n",
        "        print(\"Memory limit must be set before GPUs are initialized:\", e)"
      ]
    },
    {
      "cell_type": "code",
      "execution_count": 3,
      "metadata": {},
      "outputs": [
        {
          "name": "stdout",
          "output_type": "stream",
          "text": [
            "1 Physical GPUs, 1 Logical GPU\n"
          ]
        },
        {
          "name": "stderr",
          "output_type": "stream",
          "text": [
            "I0000 00:00:1754390397.120529   10251 gpu_device.cc:2019] Created device /job:localhost/replica:0/task:0/device:GPU:0 with 7900 MB memory:  -> device: 0, name: NVIDIA GeForce RTX 4060 Ti, pci bus id: 0000:01:00.0, compute capability: 8.9\n"
          ]
        }
      ],
      "source": [
        "gpus = tf.config.list_physical_devices('GPU')\n",
        "if gpus:\n",
        "  # Restrict TensorFlow to only use the first GPU\n",
        "  try:\n",
        "    tf.config.set_visible_devices(gpus[0], 'GPU')\n",
        "    logical_gpus = tf.config.list_logical_devices('GPU')\n",
        "    print(len(gpus), \"Physical GPUs,\", len(logical_gpus), \"Logical GPU\")\n",
        "  except RuntimeError as e:\n",
        "    # Visible devices must be set before GPUs have been initialized\n",
        "    print(e)\n"
      ]
    },
    {
      "cell_type": "code",
      "execution_count": 4,
      "metadata": {
        "colab": {
          "base_uri": "https://localhost:8080/"
        },
        "id": "JE_-JDqJQpcn"
      },
      "outputs": [
        {
          "name": "stdout",
          "output_type": "stream",
          "text": [
            "TensorFlow Version: 2.19.0\n",
            "TensorFlow Hub Version: 0.16.1\n"
          ]
        }
      ],
      "source": [
        "tf.get_logger().setLevel('ERROR')\n",
        "\n",
        "print(\"TensorFlow Version:\", tf.__version__)\n",
        "print(\"TensorFlow Hub Version:\", hub.__version__)"
      ]
    },
    {
      "cell_type": "markdown",
      "metadata": {
        "id": "9jDJrbeGR7M1"
      },
      "source": [
        "Downloading the text"
      ]
    },
    {
      "cell_type": "code",
      "execution_count": 5,
      "metadata": {
        "colab": {
          "base_uri": "https://localhost:8080/"
        },
        "id": "MzfC-Iz_Rp9e"
      },
      "outputs": [],
      "source": [
        "dataset = load_dataset(\"glue\", \"sst2\")"
      ]
    },
    {
      "cell_type": "code",
      "execution_count": 6,
      "metadata": {
        "id": "ewu0Ky4nRrvF"
      },
      "outputs": [],
      "source": [
        "AUTOTUNE = tf.data.AUTOTUNE\n",
        "batch_size = 32\n",
        "train_samples = 4_000\n",
        "seed = 42"
      ]
    },
    {
      "cell_type": "code",
      "execution_count": 7,
      "metadata": {
        "colab": {
          "base_uri": "https://localhost:8080/"
        },
        "id": "Fs01OSOXSAF0"
      },
      "outputs": [
        {
          "name": "stdout",
          "output_type": "stream",
          "text": [
            "Training on 8000 samples and 872 validation samples.\n"
          ]
        }
      ],
      "source": [
        "# Load SST-2 dataset using TFDS\n",
        "dataset, info = tfds.load('glue/sst2', with_info=True)\n",
        "train_data, validation_data = dataset['train'], dataset['validation']\n",
        "\n",
        "# Create train and validation datasets\n",
        "train_ds = train_data.take(8000).batch(batch_size).cache().prefetch(buffer_size=AUTOTUNE)\n",
        "val_ds = validation_data.take(872).batch(batch_size).cache().prefetch(buffer_size=AUTOTUNE)\n",
        "\n",
        "# More aggressive prefetching\n",
        "train_ds = train_ds.cache().prefetch(buffer_size=tf.data.AUTOTUNE).repeat()\n",
        "val_ds = val_ds.cache().prefetch(buffer_size=tf.data.AUTOTUNE)\n",
        "\n",
        "# Add parallelism to preprocessing\n",
        "def preprocess_data(batch):\n",
        "    return {'text': batch['sentence']}, batch['label']\n",
        "\n",
        "train_ds = train_ds.map(preprocess_data, num_parallel_calls=tf.data.AUTOTUNE)\n",
        "val_ds = val_ds.map(preprocess_data, num_parallel_calls=tf.data.AUTOTUNE)\n",
        "\n",
        "\n",
        "print(f\"Training on 8000 samples and 872 validation samples.\")\n"
      ]
    },
    {
      "cell_type": "code",
      "execution_count": 8,
      "metadata": {
        "colab": {
          "base_uri": "https://localhost:8080/"
        },
        "id": "e5ywXWBWSFs7"
      },
      "outputs": [
        {
          "name": "stdout",
          "output_type": "stream",
          "text": [
            "Sample of the training data:\n",
            "Review: for the uninitiated plays better on video with the sound \n",
            "Label : 0 (negative)\n",
            "Review: like a giant commercial for universal studios , where much of the action takes place \n",
            "Label : 0 (negative)\n",
            "Review: company once again dazzle and delight us \n",
            "Label : 1 (positive)\n"
          ]
        },
        {
          "name": "stderr",
          "output_type": "stream",
          "text": [
            "2025-08-05 16:10:07.838586: I tensorflow/core/kernels/data/tf_record_dataset_op.cc:387] The default buffer size is 262144, which is overridden by the user specified `buffer_size` of 8388608\n",
            "2025-08-05 16:10:07.850506: W tensorflow/core/kernels/data/cache_dataset_ops.cc:916] The calling iterator did not fully read the dataset being cached. In order to avoid unexpected truncation of the dataset, the partially cached contents of the dataset  will be discarded. This can happen if you have an input pipeline similar to `dataset.cache().take(k).repeat()`. You should use `dataset.take(k).cache().repeat()` instead.\n",
            "2025-08-05 16:10:07.850694: W tensorflow/core/kernels/data/cache_dataset_ops.cc:916] The calling iterator did not fully read the dataset being cached. In order to avoid unexpected truncation of the dataset, the partially cached contents of the dataset  will be discarded. This can happen if you have an input pipeline similar to `dataset.cache().take(k).repeat()`. You should use `dataset.take(k).cache().repeat()` instead.\n",
            "2025-08-05 16:10:07.850703: W tensorflow/core/kernels/data/cache_dataset_ops.cc:916] The calling iterator did not fully read the dataset being cached. In order to avoid unexpected truncation of the dataset, the partially cached contents of the dataset  will be discarded. This can happen if you have an input pipeline similar to `dataset.cache().take(k).repeat()`. You should use `dataset.take(k).cache().repeat()` instead.\n",
            "2025-08-05 16:10:07.864039: W tensorflow/core/kernels/data/cache_dataset_ops.cc:916] The calling iterator did not fully read the dataset being cached. In order to avoid unexpected truncation of the dataset, the partially cached contents of the dataset  will be discarded. This can happen if you have an input pipeline similar to `dataset.cache().take(k).repeat()`. You should use `dataset.take(k).cache().repeat()` instead.\n",
            "2025-08-05 16:10:07.864449: W tensorflow/core/kernels/data/cache_dataset_ops.cc:916] The calling iterator did not fully read the dataset being cached. In order to avoid unexpected truncation of the dataset, the partially cached contents of the dataset  will be discarded. This can happen if you have an input pipeline similar to `dataset.cache().take(k).repeat()`. You should use `dataset.take(k).cache().repeat()` instead.\n",
            "2025-08-05 16:10:07.864485: W tensorflow/core/kernels/data/cache_dataset_ops.cc:916] The calling iterator did not fully read the dataset being cached. In order to avoid unexpected truncation of the dataset, the partially cached contents of the dataset  will be discarded. This can happen if you have an input pipeline similar to `dataset.cache().take(k).repeat()`. You should use `dataset.take(k).cache().repeat()` instead.\n",
            "2025-08-05 16:10:07.864559: I tensorflow/core/framework/local_rendezvous.cc:407] Local rendezvous is aborting with status: OUT_OF_RANGE: End of sequence\n"
          ]
        }
      ],
      "source": [
        "print(\"Sample of the training data:\")\n",
        "for text_batch, label_batch in train_ds.take(1):\n",
        "    for i in range(3):\n",
        "        text = text_batch['text'].numpy()[i].decode('utf-8')\n",
        "        label = label_batch.numpy()[i]\n",
        "        print(f'Review: {text}')\n",
        "        print(f'Label : {label} ({\"positive\" if label == 1 else \"negative\"})')\n"
      ]
    },
    {
      "cell_type": "code",
      "execution_count": 9,
      "metadata": {
        "colab": {
          "base_uri": "https://localhost:8080/"
        },
        "id": "_3-R6Yg0SFgH"
      },
      "outputs": [
        {
          "name": "stdout",
          "output_type": "stream",
          "text": [
            "BERT model selected           : https://tfhub.dev/tensorflow/small_bert/bert_en_uncased_L-4_H-512_A-8/1\n",
            "Preprocessing model selected: https://tfhub.dev/tensorflow/bert_en_uncased_preprocess/3\n"
          ]
        }
      ],
      "source": [
        "tfhub_handle_encoder = 'https://tfhub.dev/tensorflow/small_bert/bert_en_uncased_L-4_H-512_A-8/1'\n",
        "tfhub_handle_preprocess = 'https://tfhub.dev/tensorflow/bert_en_uncased_preprocess/3'\n",
        "\n",
        "print(f'BERT model selected           : {tfhub_handle_encoder}')\n",
        "print(f'Preprocessing model selected: {tfhub_handle_preprocess}')"
      ]
    },
    {
      "cell_type": "code",
      "execution_count": 10,
      "metadata": {},
      "outputs": [],
      "source": [
        "import os\n",
        "os.environ[\"TF_USE_LEGACY_KERAS\"] = \"1\""
      ]
    },
    {
      "cell_type": "code",
      "execution_count": 11,
      "metadata": {},
      "outputs": [],
      "source": [
        "import os\n",
        "os.environ[\"TF_USE_LEGACY_KERAS\"] = \"1\"   # must be set BEFORE tf import\n",
        "\n",
        "import tensorflow as tf\n",
        "import tensorflow_hub as hub\n"
      ]
    },
    {
      "cell_type": "code",
      "execution_count": 12,
      "metadata": {
        "id": "GliAaxJlSLcl"
      },
      "outputs": [
        {
          "name": "stderr",
          "output_type": "stream",
          "text": [
            "WARNING: All log messages before absl::InitializeLog() is called are written to STDERR\n",
            "I0000 00:00:1754390451.743925   10303 service.cc:152] XLA service 0x709268c48360 initialized for platform CUDA (this does not guarantee that XLA will be used). Devices:\n",
            "I0000 00:00:1754390451.744069   10303 service.cc:160]   StreamExecutor device (0): NVIDIA GeForce RTX 4060 Ti, Compute Capability 8.9\n",
            "2025-08-05 16:10:51.769880: I tensorflow/compiler/mlir/tensorflow/utils/dump_mlir_util.cc:269] disabling MLIR crash reproducer, set env var `MLIR_CRASH_REPRODUCER_DIRECTORY` to enable.\n",
            "I0000 00:00:1754390451.824177   10303 cuda_dnn.cc:529] Loaded cuDNN version 90300\n",
            "I0000 00:00:1754390452.176404   10303 device_compiler.h:188] Compiled cluster using XLA!  This line is logged at most once for the lifetime of the process.\n"
          ]
        },
        {
          "name": "stdout",
          "output_type": "stream",
          "text": [
            "1/1 [==============================] - 55s 55s/step - loss: 0.5337 - binary_accuracy: 0.5000\n"
          ]
        },
        {
          "data": {
            "text/plain": [
              "<tf_keras.src.callbacks.History at 0x7092a4ce8880>"
            ]
          },
          "execution_count": 12,
          "metadata": {},
          "output_type": "execute_result"
        }
      ],
      "source": [
        "tfhub_handle_preprocess = \"https://tfhub.dev/tensorflow/bert_en_uncased_preprocess/3\"\n",
        "tfhub_handle_encoder = \"https://tfhub.dev/tensorflow/bert_en_uncased_L-12_H-768_A-12/4\"\n",
        "\n",
        "preprocess_model = hub.load(tfhub_handle_preprocess)\n",
        "encoder_layer = hub.KerasLayer(tfhub_handle_encoder, trainable=True, name=\"bert_encoder\")\n",
        "\n",
        "def preprocess_text(texts):\n",
        "    return preprocess_model(texts)\n",
        "\n",
        "def build_classifier_model():\n",
        "    input_word_ids = tf.keras.Input(shape=(None,), dtype=tf.int32, name='input_word_ids')\n",
        "    input_mask = tf.keras.Input(shape=(None,), dtype=tf.int32, name='input_mask')\n",
        "    input_type_ids = tf.keras.Input(shape=(None,), dtype=tf.int32, name='input_type_ids')\n",
        "\n",
        "    inputs = {\n",
        "        'input_word_ids': input_word_ids,\n",
        "        'input_mask': input_mask,\n",
        "        'input_type_ids': input_type_ids,\n",
        "    }\n",
        "\n",
        "    bert_outputs = encoder_layer(inputs)\n",
        "    pooled_output = bert_outputs['pooled_output']\n",
        "\n",
        "    net = tf.keras.layers.Dropout(0.1)(pooled_output)\n",
        "    net = tf.keras.layers.Dense(1, name='classifier')(net)\n",
        "    return tf.keras.Model(inputs=[input_word_ids, input_mask, input_type_ids], outputs=net)\n",
        "\n",
        "# Example usage\n",
        "texts = tf.constant([\"Hello world\", \"Goodbye world\"])\n",
        "preprocessed = preprocess_text(texts)\n",
        "labels = tf.constant([1, 0])\n",
        "\n",
        "model = build_classifier_model()\n",
        "model.compile(optimizer='adam',\n",
        "              loss=tf.keras.losses.BinaryCrossentropy(from_logits=True),\n",
        "              metrics=[tf.keras.metrics.BinaryAccuracy()])\n",
        "\n",
        "model.fit(preprocessed, labels, epochs=1)"
      ]
    },
    {
      "cell_type": "code",
      "execution_count": 13,
      "metadata": {},
      "outputs": [
        {
          "name": "stdout",
          "output_type": "stream",
          "text": [
            "Model output shape: (1, 1)\n",
            "Model output (logits): tf.Tensor([[3.6225753]], shape=(1, 1), dtype=float32)\n"
          ]
        }
      ],
      "source": [
        "# Sample input text\n",
        "raw_text = tf.constant([\"this is a great movie\"])\n",
        "\n",
        "# Preprocess the raw text using your preprocessing module\n",
        "preprocessed_input = preprocess_text(raw_text)\n",
        "\n",
        "# Pass preprocessed inputs (dict of tensors) to classifier_model\n",
        "bert_raw_result = model(preprocessed_input)\n",
        "\n",
        "print(\"Model output shape:\", bert_raw_result.shape)\n",
        "print(\"Model output (logits):\", bert_raw_result)\n"
      ]
    },
    {
      "cell_type": "code",
      "execution_count": 14,
      "metadata": {},
      "outputs": [],
      "source": [
        "# Assume your original dataset yields {'text': tf.string} samples and labels\n",
        "\n",
        "def preprocess_batch(batch):\n",
        "    texts = batch[\"text\"]\n",
        "    preprocessed = preprocess_text(texts)   # Using your TF Hub preprocessing function\n",
        "    return preprocessed\n",
        "\n",
        "# Apply preprocessing map to your dataset\n",
        "train_ds = train_ds.map(lambda x, y: (preprocess_text(x['text']), y))\n",
        "val_ds = val_ds.map(lambda x, y: (preprocess_text(x['text']), y))\n"
      ]
    },
    {
      "cell_type": "code",
      "execution_count": 15,
      "metadata": {
        "colab": {
          "base_uri": "https://localhost:8080/"
        },
        "id": "CcKo1lFWSVbu"
      },
      "outputs": [
        {
          "name": "stdout",
          "output_type": "stream",
          "text": [
            "Training TensorFlow Hub model...\n",
            "Epoch 1/12\n",
            "31/31 [==============================] - 199s 5s/step - loss: 0.6819 - binary_accuracy: 0.5968 - val_loss: 0.4427 - val_binary_accuracy: 0.8211\n",
            "Epoch 2/12\n",
            "31/31 [==============================] - 161s 5s/step - loss: 0.4249 - binary_accuracy: 0.8246 - val_loss: 0.3194 - val_binary_accuracy: 0.8681\n",
            "Epoch 3/12\n",
            "31/31 [==============================] - 160s 5s/step - loss: 0.3894 - binary_accuracy: 0.8327 - val_loss: 0.2902 - val_binary_accuracy: 0.8739\n",
            "Epoch 4/12\n",
            "31/31 [==============================] - 158s 5s/step - loss: 0.3386 - binary_accuracy: 0.8639 - val_loss: 0.2670 - val_binary_accuracy: 0.8807\n",
            "Epoch 5/12\n",
            "31/31 [==============================] - 157s 5s/step - loss: 0.3251 - binary_accuracy: 0.8690 - val_loss: 0.2569 - val_binary_accuracy: 0.8888\n",
            "Epoch 6/12\n",
            "31/31 [==============================] - 217s 7s/step - loss: 0.2962 - binary_accuracy: 0.8730 - val_loss: 0.3016 - val_binary_accuracy: 0.8876\n",
            "Epoch 7/12\n",
            "31/31 [==============================] - 208s 7s/step - loss: 0.2928 - binary_accuracy: 0.8690 - val_loss: 0.2805 - val_binary_accuracy: 0.8956\n",
            "Epoch 8/12\n",
            "22/31 [====================>.........] - ETA: 50s - loss: 0.3137 - binary_accuracy: 0.8821"
          ]
        },
        {
          "name": "stderr",
          "output_type": "stream",
          "text": [
            "2025-08-05 16:34:27.627749: W tensorflow/core/kernels/data/cache_dataset_ops.cc:916] The calling iterator did not fully read the dataset being cached. In order to avoid unexpected truncation of the dataset, the partially cached contents of the dataset  will be discarded. This can happen if you have an input pipeline similar to `dataset.cache().take(k).repeat()`. You should use `dataset.take(k).cache().repeat()` instead.\n"
          ]
        },
        {
          "name": "stdout",
          "output_type": "stream",
          "text": [
            "31/31 [==============================] - 211s 7s/step - loss: 0.2748 - binary_accuracy: 0.8931 - val_loss: 0.2363 - val_binary_accuracy: 0.9014\n",
            "Epoch 9/12\n",
            "31/31 [==============================] - 211s 7s/step - loss: 0.2453 - binary_accuracy: 0.8942 - val_loss: 0.2543 - val_binary_accuracy: 0.8968\n",
            "Epoch 10/12\n",
            "31/31 [==============================] - 209s 7s/step - loss: 0.1627 - binary_accuracy: 0.9425 - val_loss: 0.2573 - val_binary_accuracy: 0.8979\n",
            "Epoch 11/12\n",
            "31/31 [==============================] - 212s 7s/step - loss: 0.1396 - binary_accuracy: 0.9486 - val_loss: 0.2480 - val_binary_accuracy: 0.8979\n",
            "Epoch 12/12\n",
            "31/31 [==============================] - 209s 7s/step - loss: 0.1331 - binary_accuracy: 0.9496 - val_loss: 0.2523 - val_binary_accuracy: 0.9014\n",
            "Training finished.\n"
          ]
        }
      ],
      "source": [
        "from tensorflow.keras import mixed_precision\n",
        "\n",
        "# Set global mixed precision policy\n",
        "mixed_precision.set_global_policy('mixed_float16')\n",
        "\n",
        "# Create loss and metrics\n",
        "loss = tf.keras.losses.BinaryCrossentropy(from_logits=True)\n",
        "metrics = [tf.keras.metrics.BinaryAccuracy()]\n",
        "\n",
        "# Define optimizer with gradient clipping\n",
        "optimizer = tf.keras.optimizers.Adam(\n",
        "    learning_rate=5e-5,\n",
        "    beta_1=0.9,\n",
        "    beta_2=0.999,\n",
        "    epsilon=1e-7,\n",
        "    clipnorm=1.0\n",
        ")\n",
        "\n",
        "# Your training parameters\n",
        "epochs = 12\n",
        "batch_size = 128\n",
        "train_samples = 4000  # adjust as needed\n",
        "steps_per_epoch = train_samples // batch_size\n",
        "\n",
        "# Build the model\n",
        "classifier_model = build_classifier_model()\n",
        "\n",
        "# Compile and train as per previous code\n",
        "classifier_model.compile(optimizer=optimizer,\n",
        "                         loss=loss,\n",
        "                         metrics=metrics)\n",
        "\n",
        "print(\"Training TensorFlow Hub model...\")\n",
        "start_time_tf = time.time() # Start timer\n",
        "history = classifier_model.fit(train_ds,\n",
        "                               validation_data=val_ds,\n",
        "                               epochs=epochs,\n",
        "                               steps_per_epoch=steps_per_epoch)\n",
        "end_time_tf = time.time() # End timer\n",
        "tf_hub_training_time = end_time_tf - start_time_tf\n",
        "print('Training finished.')"
      ]
    },
    {
      "cell_type": "code",
      "execution_count": 16,
      "metadata": {
        "id": "sfmCun9RSYiF"
      },
      "outputs": [
        {
          "name": "stdout",
          "output_type": "stream",
          "text": [
            "--- TensorFlow Hub Model Efficiency ---\n",
            "Total training time: 2313.13 seconds\n",
            "Training time per epoch: 192.76 seconds\n",
            "\n",
            "--- TensorFlow Hub Model Performance ---\n",
            "Evaluating the model on the validation set...\n",
            "28/28 [==============================] - 33s 1s/step - loss: 0.2523 - binary_accuracy: 0.9014\n",
            "Loss: 0.2523\n",
            "Accuracy: 0.9014\n",
            "28/28 [==============================] - 32s 1s/step\n"
          ]
        },
        {
          "name": "stderr",
          "output_type": "stream",
          "text": [
            "2025-08-05 16:51:01.602934: I tensorflow/core/framework/local_rendezvous.cc:407] Local rendezvous is aborting with status: OUT_OF_RANGE: End of sequence\n"
          ]
        },
        {
          "name": "stdout",
          "output_type": "stream",
          "text": [
            "F1 Macro Score: 0.9012\n"
          ]
        },
        {
          "data": {
            "image/png": "[encoded data removed]",
            "text/plain": [
              "<Figure size 800x600 with 2 Axes>"
            ]
          },
          "metadata": {},
          "output_type": "display_data"
        },
        {
          "name": "stdout",
          "output_type": "stream",
          "text": [
            "Max sequence length used: 128\n",
            "\n",
            "Training history keys: dict_keys(['loss', 'binary_accuracy', 'val_loss', 'val_binary_accuracy'])\n"
          ]
        }
      ],
      "source": [
        "# --- Performance & Efficiency Metrics for TensorFlow Hub Model ---\n",
        "\n",
        "# Dictionary to store results\n",
        "tf_hub_metrics = {}\n",
        "\n",
        "# 1. Efficiency: Training Time\n",
        "tf_hub_metrics['training_time_per_epoch'] = tf_hub_training_time / epochs\n",
        "print(f\"--- TensorFlow Hub Model Efficiency ---\")\n",
        "print(f\"Total training time: {tf_hub_training_time:.2f} seconds\")\n",
        "print(f\"Training time per epoch: {tf_hub_metrics['training_time_per_epoch']:.2f} seconds\")\n",
        "\n",
        "# 2. Performance: Accuracy, F1-Score, Confusion Matrix\n",
        "print(\"\\n--- TensorFlow Hub Model Performance ---\")\n",
        "print(\"Evaluating the model on the validation set...\")\n",
        "loss, accuracy = classifier_model.evaluate(val_ds)\n",
        "tf_hub_metrics['accuracy'] = accuracy\n",
        "\n",
        "print(f'Loss: {loss:.4f}')\n",
        "print(f'Accuracy: {tf_hub_metrics[\"accuracy\"]:.4f}')\n",
        "\n",
        "# Get predictions for F1 and Confusion Matrix\n",
        "y_pred_logits = classifier_model.predict(val_ds)\n",
        "y_pred = tf.sigmoid(y_pred_logits).numpy()\n",
        "y_pred_labels = (y_pred > 0.5).astype(int).flatten()\n",
        "\n",
        "# Get true labels\n",
        "y_true = np.concatenate([y.numpy() for x, y in val_ds], axis=0)\n",
        "\n",
        "# F1 Score\n",
        "f1 = f1_score(y_true, y_pred_labels, average='macro')\n",
        "tf_hub_metrics['f1_macro'] = f1\n",
        "print(f'F1 Macro Score: {f1:.4f}')\n",
        "\n",
        "# Confusion Matrix\n",
        "cm = confusion_matrix(y_true, y_pred_labels)\n",
        "tf_hub_metrics['confusion_matrix'] = cm\n",
        "class_names = ['negative', 'positive']\n",
        "\n",
        "plt.figure(figsize=(8, 6))\n",
        "sns.heatmap(cm, annot=True, fmt='d', cmap='Blues', xticklabels=class_names, yticklabels=class_names)\n",
        "plt.title('TF Hub Model - Confusion Matrix')\n",
        "plt.ylabel('Actual')\n",
        "plt.xlabel('Predicted')\n",
        "plt.show()\n",
        "\n",
        "# 3. Efficiency: Sequence Length\n",
        "# The preprocessing model pads to a default of 128\n",
        "tf_hub_metrics['max_sequence_length'] = 128\n",
        "print(f\"Max sequence length used: {tf_hub_metrics['max_sequence_length']}\")\n",
        "\n",
        "# Plot the training and validation accuracy and loss\n",
        "history_dict = history.history\n",
        "print(\"\\nTraining history keys:\", history_dict.keys())\n",
        "\n",
        "acc = history_dict['binary_accuracy']\n",
        "val_acc = history_dict['val_binary_accuracy']\n",
        "loss = history_dict['loss']\n",
        "val_loss = history_dict['val_loss']\n",
        "\n",
        "epochs_range = range(1, epochs + 1)"
      ]
    },
    {
      "cell_type": "code",
      "execution_count": 17,
      "metadata": {
        "colab": {
          "base_uri": "https://localhost:8080/",
          "height": 487
        },
        "id": "3kJUMcdUSdhJ"
      },
      "outputs": [
        {
          "data": {
            "image/png": "[encoded data removed]",
            "text/plain": [
              "<Figure size 1200x500 with 2 Axes>"
            ]
          },
          "metadata": {},
          "output_type": "display_data"
        }
      ],
      "source": [
        "plt.figure(figsize=(12, 5))\n",
        "plt.subplot(1, 2, 1)\n",
        "plt.plot(epochs_range, acc, 'bo', label='Training acc')\n",
        "plt.plot(epochs_range, val_acc, 'b', label='Validation acc')\n",
        "plt.title('Training and validation accuracy')\n",
        "plt.xlabel('Epochs')\n",
        "plt.ylabel('Accuracy')\n",
        "plt.legend(loc='lower right')\n",
        "\n",
        "plt.subplot(1, 2, 2)\n",
        "plt.plot(epochs_range, loss, 'bo', label='Training loss')\n",
        "plt.plot(epochs_range, val_loss, 'b', label='Validation loss')\n",
        "plt.title('Training and validation loss')\n",
        "plt.xlabel('Epochs')\n",
        "plt.ylabel('Loss')\n",
        "plt.legend(loc='upper right')\n",
        "\n",
        "plt.show()"
      ]
    },
    {
      "cell_type": "code",
      "execution_count": 18,
      "metadata": {
        "colab": {
          "base_uri": "https://localhost:8080/"
        },
        "id": "yjOavk4iSgxo"
      },
      "outputs": [
        {
          "name": "stdout",
          "output_type": "stream",
          "text": [
            "Results from the reloaded model:\n",
            "input: this is a fantastic movie!     : score: 1.000000\n",
            "input: The movie was terrible, I would not recommend it. : score: 0.001484\n",
            "input: it was okay, not the best but not the worst either. : score: 0.944824\n",
            "_\n"
          ]
        }
      ],
      "source": [
        "# ---- BEGIN DROP-IN REPLACEMENT ----\n",
        "saved_model_path = './bert_sentiment_tf_hub'\n",
        "# Correct save: (already present)\n",
        "classifier_model.save(saved_model_path, include_optimizer=False)\n",
        "\n",
        "# Correct reload: use Keras model loader\n",
        "reloaded_model = tf.keras.models.load_model(saved_model_path)\n",
        "\n",
        "def print_my_examples(inputs, results):\n",
        "    \"\"\"Prints the input reviews and their predicted sentiment.\"\"\"\n",
        "    result_for_printing = [\n",
        "        f'input: {inputs[i]:<30} : score: {results[i][0]:.6f}'\n",
        "        for i in range(len(inputs))\n",
        "    ]\n",
        "    print(*result_for_printing, sep='\\n')\n",
        "    print('_')\n",
        "\n",
        "examples = [\n",
        "    'this is a fantastic movie!',\n",
        "    'The movie was terrible, I would not recommend it.',\n",
        "    'it was okay, not the best but not the worst either.'\n",
        "]\n",
        "\n",
        "# Preprocess raw input as done before (using your preprocessing pipeline)\n",
        "preprocessed_inputs = preprocess_model(tf.constant(examples))\n",
        "\n",
        "# Run the reloaded model and compute probability\n",
        "reloaded_results = tf.sigmoid(reloaded_model(preprocessed_inputs))\n",
        "\n",
        "print('Results from the reloaded model:')\n",
        "print_my_examples(examples, reloaded_results)"
      ]
    },
    {
      "cell_type": "markdown",
      "metadata": {},
      "source": [
        "## Task 3: BERT implementation using Hugging Face"
      ]
    },
    {
      "cell_type": "code",
      "execution_count": 19,
      "metadata": {},
      "outputs": [
        {
          "name": "stdout",
          "output_type": "stream",
          "text": [
            "Training on 8000 samples and 896 validation samples.\n"
          ]
        }
      ],
      "source": [
        "AUTOTUNE = tf.data.AUTOTUNE\n",
        "batch_size = 32\n",
        "seed = 42\n",
        "\n",
        "train_ds_size = 250  # 8000 / 32 batch_size\n",
        "val_ds_size = 28    # 872 / 32 batch_size\n",
        "\n",
        "print(f\"Training on {train_ds_size*batch_size} samples and {val_ds_size*batch_size} validation samples.\")"
      ]
    },
    {
      "cell_type": "code",
      "execution_count": 21,
      "metadata": {},
      "outputs": [
        {
          "name": "stdout",
          "output_type": "stream",
          "text": [
            "Using checkpoint: distilbert-base-uncased\n"
          ]
        },
        {
          "name": "stderr",
          "output_type": "stream",
          "text": [
            "/home/karan/miniconda3/envs/transformers/lib/python3.10/site-packages/huggingface_hub/file_download.py:896: FutureWarning: `resume_download` is deprecated and will be removed in version 1.0.0. Downloads always resume when possible. If you want to force a new download, use `force_download=True`.\n",
            "  warnings.warn(\n"
          ]
        }
      ],
      "source": [
        "dataset = load_dataset(\"glue\", \"sst2\")\n",
        "checkpoint = \"distilbert-base-uncased\"\n",
        "print(f\"Using checkpoint: {checkpoint}\")\n",
        "tokenizer = AutoTokenizer.from_pretrained(checkpoint)"
      ]
    },
    {
      "cell_type": "code",
      "execution_count": 22,
      "metadata": {},
      "outputs": [
        {
          "name": "stdout",
          "output_type": "stream",
          "text": [
            "Training on 8000 samples.\n",
            "Evaluating on 872 samples.\n"
          ]
        }
      ],
      "source": [
        "def tokenize_function(examples):\n",
        "    return tokenizer(examples[\"sentence\"], padding=\"max_length\", truncation=True, max_length=128)\n",
        "\n",
        "# Apply the tokenization to the entire dataset\n",
        "tokenized_datasets = dataset.map(tokenize_function, batched=True)\n",
        "\n",
        "small_train_dataset = tokenized_datasets[\"train\"].shuffle(seed=42).select(range(8000))\n",
        "small_eval_dataset = tokenized_datasets[\"validation\"].shuffle(seed=42).select(range(872))\n",
        "small_test_dataset = tokenized_datasets[\"test\"] # The test set is unlabeled, we use validation for eval\n",
        "\n",
        "print(f\"Training on {len(small_train_dataset)} samples.\")\n",
        "print(f\"Evaluating on {len(small_eval_dataset)} samples.\")"
      ]
    },
    {
      "cell_type": "code",
      "execution_count": 23,
      "metadata": {},
      "outputs": [
        {
          "name": "stderr",
          "output_type": "stream",
          "text": [
            "Some weights of DistilBertForSequenceClassification were not initialized from the model checkpoint at distilbert-base-uncased and are newly initialized: ['pre_classifier.weight', 'classifier.weight', 'pre_classifier.bias', 'classifier.bias']\n",
            "You should probably TRAIN this model on a down-stream task to be able to use it for predictions and inference.\n"
          ]
        },
        {
          "data": {
            "text/plain": [
              "DistilBertForSequenceClassification(\n",
              "  (distilbert): DistilBertModel(\n",
              "    (embeddings): Embeddings(\n",
              "      (word_embeddings): Embedding(30522, 768, padding_idx=0)\n",
              "      (position_embeddings): Embedding(512, 768)\n",
              "      (LayerNorm): LayerNorm((768,), eps=1e-12, elementwise_affine=True)\n",
              "      (dropout): Dropout(p=0.1, inplace=False)\n",
              "    )\n",
              "    (transformer): Transformer(\n",
              "      (layer): ModuleList(\n",
              "        (0-5): 6 x TransformerBlock(\n",
              "          (attention): MultiHeadSelfAttention(\n",
              "            (dropout): Dropout(p=0.1, inplace=False)\n",
              "            (q_lin): Linear(in_features=768, out_features=768, bias=True)\n",
              "            (k_lin): Linear(in_features=768, out_features=768, bias=True)\n",
              "            (v_lin): Linear(in_features=768, out_features=768, bias=True)\n",
              "            (out_lin): Linear(in_features=768, out_features=768, bias=True)\n",
              "          )\n",
              "          (sa_layer_norm): LayerNorm((768,), eps=1e-12, elementwise_affine=True)\n",
              "          (ffn): FFN(\n",
              "            (dropout): Dropout(p=0.1, inplace=False)\n",
              "            (lin1): Linear(in_features=768, out_features=3072, bias=True)\n",
              "            (lin2): Linear(in_features=3072, out_features=768, bias=True)\n",
              "            (activation): GELUActivation()\n",
              "          )\n",
              "          (output_layer_norm): LayerNorm((768,), eps=1e-12, elementwise_affine=True)\n",
              "        )\n",
              "      )\n",
              "    )\n",
              "  )\n",
              "  (pre_classifier): Linear(in_features=768, out_features=768, bias=True)\n",
              "  (classifier): Linear(in_features=768, out_features=2, bias=True)\n",
              "  (dropout): Dropout(p=0.2, inplace=False)\n",
              ")"
            ]
          },
          "execution_count": 23,
          "metadata": {},
          "output_type": "execute_result"
        }
      ],
      "source": [
        "model = AutoModelForSequenceClassification.from_pretrained(checkpoint, num_labels=2)\n",
        "model.to(device)"
      ]
    },
    {
      "cell_type": "code",
      "execution_count": 24,
      "metadata": {},
      "outputs": [],
      "source": [
        "def compute_metrics(eval_pred):\n",
        "    logits, labels = eval_pred\n",
        "    predictions = np.argmax(logits, axis=-1)\n",
        "\n",
        "    # Calculate F1 score (macro)\n",
        "    f1 = f1_score(labels, predictions, average=\"macro\")\n",
        "\n",
        "    # Calculate accuracy\n",
        "    acc = accuracy_metric.compute(predictions=predictions, references=labels)[\"accuracy\"]\n",
        "\n",
        "    return {\"accuracy\": acc, \"f1_macro\": f1}\n"
      ]
    },
    {
      "cell_type": "code",
      "execution_count": 25,
      "metadata": {},
      "outputs": [],
      "source": [
        "# Replace this:\n",
        "# accuracy_metric = evaluate.load(\"accuracy\")\n",
        "\n",
        "# With this working code:\n",
        "from sklearn.metrics import accuracy_score, f1_score\n",
        "\n",
        "def compute_metrics(eval_pred):\n",
        "    logits, labels = eval_pred\n",
        "    predictions = np.argmax(logits, axis=-1)\n",
        "\n",
        "    accuracy = accuracy_score(labels, predictions)\n",
        "    f1 = f1_score(labels, predictions, average=\"macro\")\n",
        "\n",
        "    return {\"accuracy\": accuracy, \"f1_macro\": f1}\n",
        "\n",
        "# Update the training arguments to remove the problematic metric reference:\n",
        "training_args = TrainingArguments(\n",
        "    output_dir=\"test_trainer\",\n",
        "    evaluation_strategy=\"epoch\",\n",
        "    num_train_epochs=12,\n",
        "    per_device_train_batch_size=32,\n",
        "    per_device_eval_batch_size=32,\n",
        "    logging_steps=100,\n",
        "    save_strategy=\"epoch\",\n",
        "    load_best_model_at_end=True,\n",
        "    metric_for_best_model=\"accuracy\",\n",
        "    learning_rate=5e-5,\n",
        "    fp16=True,\n",
        "    dataloader_num_workers=2,\n",
        ")\n"
      ]
    },
    {
      "cell_type": "code",
      "execution_count": 26,
      "metadata": {},
      "outputs": [
        {
          "name": "stderr",
          "output_type": "stream",
          "text": [
            "/home/karan/miniconda3/envs/transformers/lib/python3.10/site-packages/accelerate/accelerator.py:451: FutureWarning: Passing the following arguments to `Accelerator` is deprecated and will be removed in version 1.0 of Accelerate: dict_keys(['dispatch_batches', 'split_batches']). Please pass an `accelerate.DataLoaderConfiguration` instead: \n",
            "dataloader_config = DataLoaderConfiguration(dispatch_batches=None, split_batches=False)\n",
            "  warnings.warn(\n"
          ]
        }
      ],
      "source": [
        "trainer = Trainer(\n",
        "    model=model,\n",
        "    args=training_args,\n",
        "    train_dataset=small_train_dataset,\n",
        "    eval_dataset=small_eval_dataset,\n",
        "    compute_metrics=compute_metrics,\n",
        ")"
      ]
    },
    {
      "cell_type": "code",
      "execution_count": 27,
      "metadata": {},
      "outputs": [
        {
          "name": "stdout",
          "output_type": "stream",
          "text": [
            "Starting training...\n"
          ]
        },
        {
          "data": {
            "text/html": [
              "\n",
              "    <div>\n",
              "      \n",
              "      <progress value='3000' max='3000' style='width:300px; height:20px; vertical-align: middle;'></progress>\n",
              "      [3000/3000 06:40, Epoch 12/12]\n",
              "    </div>\n",
              "    <table border=\"1\" class=\"dataframe\">\n",
              "  <thead>\n",
              " <tr style=\"text-align: left;\">\n",
              "      <th>Epoch</th>\n",
              "      <th>Training Loss</th>\n",
              "      <th>Validation Loss</th>\n",
              "      <th>Accuracy</th>\n",
              "      <th>F1 Macro</th>\n",
              "    </tr>\n",
              "  </thead>\n",
              "  <tbody>\n",
              "    <tr>\n",
              "      <td>1</td>\n",
              "      <td>0.303800</td>\n",
              "      <td>0.316864</td>\n",
              "      <td>0.868119</td>\n",
              "      <td>0.867906</td>\n",
              "    </tr>\n",
              "    <tr>\n",
              "      <td>2</td>\n",
              "      <td>0.154500</td>\n",
              "      <td>0.397667</td>\n",
              "      <td>0.865826</td>\n",
              "      <td>0.865817</td>\n",
              "    </tr>\n",
              "    <tr>\n",
              "      <td>3</td>\n",
              "      <td>0.085200</td>\n",
              "      <td>0.536464</td>\n",
              "      <td>0.869266</td>\n",
              "      <td>0.869263</td>\n",
              "    </tr>\n",
              "    <tr>\n",
              "      <td>4</td>\n",
              "      <td>0.044900</td>\n",
              "      <td>0.487242</td>\n",
              "      <td>0.885321</td>\n",
              "      <td>0.885316</td>\n",
              "    </tr>\n",
              "    <tr>\n",
              "      <td>5</td>\n",
              "      <td>0.024500</td>\n",
              "      <td>0.675005</td>\n",
              "      <td>0.880734</td>\n",
              "      <td>0.880341</td>\n",
              "    </tr>\n",
              "    <tr>\n",
              "      <td>6</td>\n",
              "      <td>0.016700</td>\n",
              "      <td>0.729821</td>\n",
              "      <td>0.887615</td>\n",
              "      <td>0.887444</td>\n",
              "    </tr>\n",
              "    <tr>\n",
              "      <td>7</td>\n",
              "      <td>0.010200</td>\n",
              "      <td>0.882066</td>\n",
              "      <td>0.878440</td>\n",
              "      <td>0.878101</td>\n",
              "    </tr>\n",
              "    <tr>\n",
              "      <td>8</td>\n",
              "      <td>0.008600</td>\n",
              "      <td>0.837511</td>\n",
              "      <td>0.885321</td>\n",
              "      <td>0.884973</td>\n",
              "    </tr>\n",
              "    <tr>\n",
              "      <td>9</td>\n",
              "      <td>0.010300</td>\n",
              "      <td>0.836019</td>\n",
              "      <td>0.887615</td>\n",
              "      <td>0.887444</td>\n",
              "    </tr>\n",
              "    <tr>\n",
              "      <td>10</td>\n",
              "      <td>0.000100</td>\n",
              "      <td>0.861461</td>\n",
              "      <td>0.891055</td>\n",
              "      <td>0.890950</td>\n",
              "    </tr>\n",
              "    <tr>\n",
              "      <td>11</td>\n",
              "      <td>0.001500</td>\n",
              "      <td>0.972948</td>\n",
              "      <td>0.875000</td>\n",
              "      <td>0.874425</td>\n",
              "    </tr>\n",
              "    <tr>\n",
              "      <td>12</td>\n",
              "      <td>0.001500</td>\n",
              "      <td>0.931580</td>\n",
              "      <td>0.883028</td>\n",
              "      <td>0.882701</td>\n",
              "    </tr>\n",
              "  </tbody>\n",
              "</table><p>"
            ],
            "text/plain": [
              "<IPython.core.display.HTML object>"
            ]
          },
          "metadata": {},
          "output_type": "display_data"
        },
        {
          "name": "stdout",
          "output_type": "stream",
          "text": [
            "Training finished in 407.55 seconds.\n",
            "\n",
            "Evaluating model performance...\n"
          ]
        },
        {
          "data": {
            "text/html": [],
            "text/plain": [
              "<IPython.core.display.HTML object>"
            ]
          },
          "metadata": {},
          "output_type": "display_data"
        },
        {
          "name": "stdout",
          "output_type": "stream",
          "text": [
            "Evaluation results: {'eval_loss': 0.8614606857299805, 'eval_accuracy': 0.8910550458715596, 'eval_f1_macro': 0.8909504972652059, 'eval_runtime': 1.256, 'eval_samples_per_second': 694.25, 'eval_steps_per_second': 22.292, 'epoch': 12.0}\n"
          ]
        }
      ],
      "source": [
        "print(\"Starting training...\")\n",
        "start_time = time.time()\n",
        "trainer.train()\n",
        "end_time = time.time()\n",
        "training_time = end_time - start_time\n",
        "print(f\"Training finished in {training_time:.2f} seconds.\")\n",
        "\n",
        "print(\"\\nEvaluating model performance...\")\n",
        "eval_results = trainer.evaluate()\n",
        "print(\"Evaluation results:\", eval_results)"
      ]
    },
    {
      "cell_type": "code",
      "execution_count": 29,
      "metadata": {},
      "outputs": [
        {
          "name": "stdout",
          "output_type": "stream",
          "text": [
            "\n",
            "Generating confusion matrix...\n"
          ]
        },
        {
          "data": {
            "image/png": "[encoded data removed]",
            "text/plain": [
              "<Figure size 800x600 with 2 Axes>"
            ]
          },
          "metadata": {},
          "output_type": "display_data"
        }
      ],
      "source": [
        "print(\"\\nGenerating confusion matrix...\")\n",
        "predictions = trainer.predict(small_eval_dataset)\n",
        "pred_labels = np.argmax(predictions.predictions, axis=-1)\n",
        "true_labels = predictions.label_ids\n",
        "\n",
        "cm = confusion_matrix(true_labels, pred_labels)\n",
        "class_names = dataset['train'].features['label'].names\n",
        "\n",
        "# Plot the confusion matrix\n",
        "plt.figure(figsize=(8, 6))\n",
        "sns.heatmap(cm, annot=True, fmt='d', cmap='Blues', xticklabels=class_names, yticklabels=class_names)\n",
        "plt.title('Confusion Matrix')\n",
        "plt.ylabel('Actual')\n",
        "plt.xlabel('Predicted')\n",
        "plt.show()"
      ]
    },
    {
      "cell_type": "code",
      "execution_count": 30,
      "metadata": {},
      "outputs": [
        {
          "name": "stdout",
          "output_type": "stream",
          "text": [
            "--- Hugging Face Model Performance ---\n",
            "Validation Accuracy: 0.8911\n",
            "Validation F1 Macro: 0.8910\n",
            "Confusion matrix plotted above.\n",
            "\n",
            "--- Hugging Face Model Efficiency ---\n",
            "Total training time: 407.55 seconds\n",
            "Training time per epoch: 33.96 seconds\n",
            "Max sequence length used: 512\n"
          ]
        }
      ],
      "source": [
        "# --- Performance & Efficiency Metrics for Hugging Face Model ---\n",
        "\n",
        "# Dictionary to store results\n",
        "hugging_face_metrics = {}\n",
        "\n",
        "# 1. Performance: Accuracy, F1-Score, Confusion Matrix\n",
        "hugging_face_metrics['accuracy'] = eval_results['eval_accuracy']\n",
        "hugging_face_metrics['f1_macro'] = eval_results['eval_f1_macro']\n",
        "# This was already computed in the previous cell for the plot\n",
        "hugging_face_metrics['confusion_matrix'] = confusion_matrix(true_labels, pred_labels) \n",
        "\n",
        "print(\"--- Hugging Face Model Performance ---\")\n",
        "print(f\"Validation Accuracy: {hugging_face_metrics['accuracy']:.4f}\")\n",
        "print(f\"Validation F1 Macro: {hugging_face_metrics['f1_macro']:.4f}\")\n",
        "print(\"Confusion matrix plotted above.\")\n",
        "\n",
        "\n",
        "# 2. Efficiency: Training Time, Sequence Length\n",
        "hugging_face_metrics['training_time_per_epoch'] = training_time / training_args.num_train_epochs\n",
        "hugging_face_metrics['max_sequence_length'] = tokenizer.model_max_length\n",
        "\n",
        "print(\"\\n--- Hugging Face Model Efficiency ---\")\n",
        "print(f\"Total training time: {training_time:.2f} seconds\")\n",
        "print(f\"Training time per epoch: {hugging_face_metrics['training_time_per_epoch']:.2f} seconds\")\n",
        "print(f\"Max sequence length used: {hugging_face_metrics['max_sequence_length']}\")\n",
        "\n",
        "# GPU memory is printed by !nvidia-smi calls around the training cell"
      ]
    },
    {
      "cell_type": "code",
      "execution_count": 31,
      "metadata": {},
      "outputs": [
        {
          "name": "stdout",
          "output_type": "stream",
          "text": [
            "\n",
            "Performing inference on new examples...\n",
            "Sentence: 'This library is so easy to use!' -> Prediction: LABEL_1 (Score: 1.0000)\n",
            "Sentence: 'I'm not sure if I like this new update.' -> Prediction: LABEL_0 (Score: 0.9999)\n",
            "Sentence: 'The performance is terrible.' -> Prediction: LABEL_0 (Score: 0.9999)\n"
          ]
        }
      ],
      "source": [
        "print(\"\\nPerforming inference on new examples...\")\n",
        "classifier = pipeline(\"sentiment-analysis\", model=trainer.model, tokenizer=tokenizer, device=0 if device.type == 'cuda' else -1)\n",
        "\n",
        "examples = [\n",
        "    \"This library is so easy to use!\",\n",
        "    \"I'm not sure if I like this new update.\",\n",
        "    \"The performance is terrible.\"\n",
        "]\n",
        "\n",
        "results = classifier(examples)\n",
        "for ex, res in zip(examples, results):\n",
        "    print(f\"Sentence: '{ex}' -> Prediction: {res['label']} (Score: {res['score']:.4f})\")"
      ]
    },
    {
      "cell_type": "markdown",
      "metadata": {},
      "source": [
        "# Task 1\n",
        "1. How does BERT's bidirectional Transformer architecture differ from GPT's unidirectional approach, and why is this important for language understanding tasks?  \n",
        "BERT looks at text from both directions at once, letting it understand context from all sides. GPT only reads left to right, so it misses future context. This makes BERT much better at tasks like question answering, where knowing what comes before and after a word is key for understanding.\n",
        "\n",
        "2. Analyze the role of the Masked Language Model (MLM) objective. How does masking 15% of tokens impact the model's ability to learn contextual embeddings?  \n",
        "MLM hides 15% of words, forcing BERT to guess them using context from both sides. This helps it learn deeper, more flexible word meanings. Mixing up which tokens are masked, swapped, or left the same keeps the model from relying on predictable patterns.\n",
        "\n",
        "3. Why was the Next Sentence Prediction (NSP) objective introduced, and what evidence supports its effectiveness?  \n",
        "NSP trains BERT to understand if two sentences go together, which is crucial for tasks involving pairs of sentences. Tests showed that BERT does much worse on these tasks when NSP is left out, proving its value.\n",
        "\n",
        "4. Examine the combined use of token, segment, and position embeddings in BERT. How do these embeddings help the model represent single-sentence and sentence-pair tasks?  \n",
        "BERT adds word, sentence, and position info to every token, so it always knows who’s who and in what order. This lets it naturally handle single sentences or pairs (like question and answer) in one model.\n",
        "\n",
        "5. What are the potential drawbacks of the [MASK] token being absent during fine-tuning, and how does BERT mitigate this mismatch?  \n",
        "Since [MASK] only appears in training, there's a risk BERT gets too used to it. To avoid this, BERT sometimes swaps or leaves masked words unchanged, teaching it to work well even when [MASK] isn’t around later.\n",
        "\n",
        "6. What challenges can arise when fine-tuning BERT on small datasets, and how does random restarts help stabilize performance?  \n",
        "On tiny datasets, fine-tuning is bumpy and results can vary a lot. Running BERT multiple times with different random setups helps pick the version that performs best—giving better, more stable results.\n",
        "\n",
        "7. What are the computational trade-offs of pre-training BERT with large batch sizes and sequence lengths?  \n",
        "Training BERT with big batches and long texts is super expensive in time and hardware. To save effort, most training uses shorter text, with only a little done using the full max length, striking a balance between efficiency and learning.\n",
        "\n",
        "8. Discuss possible limitations of BERT’s pre-training corpus (BooksCorpus + Wikipedia). How might domain-specific pre-training improve results?  \n",
        "BERT learned from books and Wikipedia, so it may miss jargon or styles from other fields. Training on data specific to a topic or domain could help BERT perform better in specialized areas."
      ]
    },
    {
      "cell_type": "markdown",
      "metadata": {},
      "source": [
        "The TensorFlow Hub model shows overfitting after 7 epochs, demonstrated by low accuracy and a notably high validation loss. In contrast, the Hugging Face model reaches higher accuracy at the same point, but the elevated validation loss suggests it is also overfitting."
      ]
    },
    {
      "cell_type": "code",
      "execution_count": null,
      "metadata": {},
      "outputs": [],
      "source": []
    }
  ],
  "metadata": {
    "accelerator": "TPU",
    "colab": {
      "gpuType": "V28",
      "provenance": []
    },
    "kernelspec": {
      "display_name": "Python (transformers)",
      "language": "python",
      "name": "transformers"
    },
    "language_info": {
      "codemirror_mode": {
        "name": "ipython",
        "version": 3
      },
      "file_extension": ".py",
      "mimetype": "text/x-python",
      "name": "python",
      "nbconvert_exporter": "python",
      "pygments_lexer": "ipython3",
      "version": "3.10.17"
    }
  },
  "nbformat": 4,
  "nbformat_minor": 0
}
